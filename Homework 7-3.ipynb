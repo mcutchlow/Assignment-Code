{
 "cells": [
  {
   "cell_type": "markdown",
   "metadata": {},
   "source": [
    "# Data 118 - Winter 2022\n",
    "# Homework 7: A/B testing and fuzzy matching (50 points)\n",
    "\n",
    "**Reading**: Textbook chapter [12](https://inferentialthinking.com/chapters/12/Comparing_Two_Samples.html)\n",
    "\n",
    "Please complete this notebook by filling in the cells provided. Before you begin, execute the following cell to load the needed functions. Each time you start your server, you will need to execute this cell again to load them.  \n",
    "\n",
    "Homework 7 is due Tuesday, March 8 at 9:00am. Late work will not be accepted without prior arrangements.  "
   ]
  },
  {
   "cell_type": "code",
   "execution_count": 1,
   "metadata": {},
   "outputs": [],
   "source": [
    "# Don't change this cell; just run it. \n",
    "\n",
    "import numpy as np\n",
    "import pandas as pd\n",
    "import os\n",
    "import sys\n",
    "import io\n",
    "import scipy\n",
    "from scipy import stats\n",
    "import matplotlib\n",
    "%matplotlib inline\n",
    "import matplotlib.pyplot as plt\n",
    "plt.style.use('fivethirtyeight')\n",
    "import warnings\n",
    "warnings.simplefilter(action=\"ignore\", category=FutureWarning)"
   ]
  },
  {
   "cell_type": "markdown",
   "metadata": {},
   "source": [
    "## 1. Birth weight data (25 points)\n",
    "\n",
    "We discussed in class a dataset that contains the following variables for 1,174 mother-baby pairs: the baby’s birth weight in ounces, the number of gestational days, the mother’s age in completed years, the mother’s height in inches, pregnancy weight in pounds, and whether or not the mother smoked during pregnancy. \n"
   ]
  },
  {
   "cell_type": "code",
   "execution_count": 2,
   "metadata": {},
   "outputs": [
    {
     "name": "stdout",
     "output_type": "stream",
     "text": [
      "(1174, 6)\n"
     ]
    },
    {
     "data": {
      "text/html": [
       "<div>\n",
       "<style scoped>\n",
       "    .dataframe tbody tr th:only-of-type {\n",
       "        vertical-align: middle;\n",
       "    }\n",
       "\n",
       "    .dataframe tbody tr th {\n",
       "        vertical-align: top;\n",
       "    }\n",
       "\n",
       "    .dataframe thead th {\n",
       "        text-align: right;\n",
       "    }\n",
       "</style>\n",
       "<table border=\"1\" class=\"dataframe\">\n",
       "  <thead>\n",
       "    <tr style=\"text-align: right;\">\n",
       "      <th></th>\n",
       "      <th>Birth Weight</th>\n",
       "      <th>Gestational Days</th>\n",
       "      <th>Maternal Age</th>\n",
       "      <th>Maternal Height</th>\n",
       "      <th>Maternal Pregnancy Weight</th>\n",
       "      <th>Maternal Smoker</th>\n",
       "    </tr>\n",
       "  </thead>\n",
       "  <tbody>\n",
       "    <tr>\n",
       "      <th>0</th>\n",
       "      <td>120</td>\n",
       "      <td>284</td>\n",
       "      <td>27</td>\n",
       "      <td>62</td>\n",
       "      <td>100</td>\n",
       "      <td>False</td>\n",
       "    </tr>\n",
       "    <tr>\n",
       "      <th>1</th>\n",
       "      <td>113</td>\n",
       "      <td>282</td>\n",
       "      <td>33</td>\n",
       "      <td>64</td>\n",
       "      <td>135</td>\n",
       "      <td>False</td>\n",
       "    </tr>\n",
       "    <tr>\n",
       "      <th>2</th>\n",
       "      <td>128</td>\n",
       "      <td>279</td>\n",
       "      <td>28</td>\n",
       "      <td>64</td>\n",
       "      <td>115</td>\n",
       "      <td>True</td>\n",
       "    </tr>\n",
       "    <tr>\n",
       "      <th>3</th>\n",
       "      <td>108</td>\n",
       "      <td>282</td>\n",
       "      <td>23</td>\n",
       "      <td>67</td>\n",
       "      <td>125</td>\n",
       "      <td>True</td>\n",
       "    </tr>\n",
       "    <tr>\n",
       "      <th>4</th>\n",
       "      <td>136</td>\n",
       "      <td>286</td>\n",
       "      <td>25</td>\n",
       "      <td>62</td>\n",
       "      <td>93</td>\n",
       "      <td>False</td>\n",
       "    </tr>\n",
       "  </tbody>\n",
       "</table>\n",
       "</div>"
      ],
      "text/plain": [
       "   Birth Weight  Gestational Days  Maternal Age  Maternal Height  \\\n",
       "0           120               284            27               62   \n",
       "1           113               282            33               64   \n",
       "2           128               279            28               64   \n",
       "3           108               282            23               67   \n",
       "4           136               286            25               62   \n",
       "\n",
       "   Maternal Pregnancy Weight  Maternal Smoker  \n",
       "0                        100            False  \n",
       "1                        135            False  \n",
       "2                        115             True  \n",
       "3                        125             True  \n",
       "4                         93            False  "
      ]
     },
     "execution_count": 2,
     "metadata": {},
     "output_type": "execute_result"
    }
   ],
   "source": [
    "baby_df = pd.read_csv('baby.csv')\n",
    "print(baby_df.shape)\n",
    "baby_df.head(5)"
   ]
  },
  {
   "cell_type": "markdown",
   "metadata": {},
   "source": [
    "The analysis in class (a permutation test for the difference in means) showed that there is strong evidence for unequal distributions of birth weights for smoker and non-smoker mothers. Here we will investigate differences in BMI between mothers who smoked and did not.\n",
    "\n",
    "Body Mass Index (BMI) is a person’s weight in kilograms divided by the square of height in meters.  BMI can be used to screen for weight categories that may lead to health problems but it is not diagnostic of the health of an individual.\n",
    "\n",
    "#### Question 1\n",
    "\n",
    "Calculate the BMI for the mothers in this dataset add it as a column called `bmi`"
   ]
  },
  {
   "cell_type": "code",
   "execution_count": 3,
   "metadata": {},
   "outputs": [
    {
     "data": {
      "text/html": [
       "<div>\n",
       "<style scoped>\n",
       "    .dataframe tbody tr th:only-of-type {\n",
       "        vertical-align: middle;\n",
       "    }\n",
       "\n",
       "    .dataframe tbody tr th {\n",
       "        vertical-align: top;\n",
       "    }\n",
       "\n",
       "    .dataframe thead th {\n",
       "        text-align: right;\n",
       "    }\n",
       "</style>\n",
       "<table border=\"1\" class=\"dataframe\">\n",
       "  <thead>\n",
       "    <tr style=\"text-align: right;\">\n",
       "      <th></th>\n",
       "      <th>bmi</th>\n",
       "    </tr>\n",
       "  </thead>\n",
       "  <tbody>\n",
       "    <tr>\n",
       "      <th>0</th>\n",
       "      <td>18.328482</td>\n",
       "    </tr>\n",
       "    <tr>\n",
       "      <th>1</th>\n",
       "      <td>23.221149</td>\n",
       "    </tr>\n",
       "    <tr>\n",
       "      <th>2</th>\n",
       "      <td>19.780979</td>\n",
       "    </tr>\n",
       "    <tr>\n",
       "      <th>3</th>\n",
       "      <td>19.618703</td>\n",
       "    </tr>\n",
       "    <tr>\n",
       "      <th>4</th>\n",
       "      <td>17.045489</td>\n",
       "    </tr>\n",
       "    <tr>\n",
       "      <th>...</th>\n",
       "      <td>...</td>\n",
       "    </tr>\n",
       "    <tr>\n",
       "      <th>1169</th>\n",
       "      <td>19.570746</td>\n",
       "    </tr>\n",
       "    <tr>\n",
       "      <th>1170</th>\n",
       "      <td>18.833955</td>\n",
       "    </tr>\n",
       "    <tr>\n",
       "      <th>1171</th>\n",
       "      <td>25.013498</td>\n",
       "    </tr>\n",
       "    <tr>\n",
       "      <th>1172</th>\n",
       "      <td>18.343232</td>\n",
       "    </tr>\n",
       "    <tr>\n",
       "      <th>1173</th>\n",
       "      <td>21.511608</td>\n",
       "    </tr>\n",
       "  </tbody>\n",
       "</table>\n",
       "<p>1174 rows × 1 columns</p>\n",
       "</div>"
      ],
      "text/plain": [
       "            bmi\n",
       "0     18.328482\n",
       "1     23.221149\n",
       "2     19.780979\n",
       "3     19.618703\n",
       "4     17.045489\n",
       "...         ...\n",
       "1169  19.570746\n",
       "1170  18.833955\n",
       "1171  25.013498\n",
       "1172  18.343232\n",
       "1173  21.511608\n",
       "\n",
       "[1174 rows x 1 columns]"
      ]
     },
     "execution_count": 3,
     "metadata": {},
     "output_type": "execute_result"
    }
   ],
   "source": [
    "orig_bmi = []\n",
    "def convert_to_bmi(num):\n",
    "    return (baby_df['Maternal Pregnancy Weight'][i]/2.2)/((baby_df['Maternal Height'][i]*0.0254)**2)\n",
    "for i in range(1174):\n",
    "    orig_bmi.append(convert_to_bmi(i))\n",
    "bmi_array = np.asarray(orig_bmi)\n",
    "bmi = pd.DataFrame(bmi_array, columns = ['bmi'])\n",
    "bmi"
   ]
  },
  {
   "cell_type": "code",
   "execution_count": 4,
   "metadata": {},
   "outputs": [
    {
     "data": {
      "text/html": [
       "<div>\n",
       "<style scoped>\n",
       "    .dataframe tbody tr th:only-of-type {\n",
       "        vertical-align: middle;\n",
       "    }\n",
       "\n",
       "    .dataframe tbody tr th {\n",
       "        vertical-align: top;\n",
       "    }\n",
       "\n",
       "    .dataframe thead th {\n",
       "        text-align: right;\n",
       "    }\n",
       "</style>\n",
       "<table border=\"1\" class=\"dataframe\">\n",
       "  <thead>\n",
       "    <tr style=\"text-align: right;\">\n",
       "      <th></th>\n",
       "      <th>Birth Weight</th>\n",
       "      <th>Gestational Days</th>\n",
       "      <th>Maternal Age</th>\n",
       "      <th>Maternal Height</th>\n",
       "      <th>Maternal Pregnancy Weight</th>\n",
       "      <th>Maternal Smoker</th>\n",
       "      <th>bmi</th>\n",
       "    </tr>\n",
       "  </thead>\n",
       "  <tbody>\n",
       "    <tr>\n",
       "      <th>0</th>\n",
       "      <td>120</td>\n",
       "      <td>284</td>\n",
       "      <td>27</td>\n",
       "      <td>62</td>\n",
       "      <td>100</td>\n",
       "      <td>False</td>\n",
       "      <td>18.328482</td>\n",
       "    </tr>\n",
       "    <tr>\n",
       "      <th>1</th>\n",
       "      <td>113</td>\n",
       "      <td>282</td>\n",
       "      <td>33</td>\n",
       "      <td>64</td>\n",
       "      <td>135</td>\n",
       "      <td>False</td>\n",
       "      <td>23.221149</td>\n",
       "    </tr>\n",
       "    <tr>\n",
       "      <th>2</th>\n",
       "      <td>128</td>\n",
       "      <td>279</td>\n",
       "      <td>28</td>\n",
       "      <td>64</td>\n",
       "      <td>115</td>\n",
       "      <td>True</td>\n",
       "      <td>19.780979</td>\n",
       "    </tr>\n",
       "    <tr>\n",
       "      <th>3</th>\n",
       "      <td>108</td>\n",
       "      <td>282</td>\n",
       "      <td>23</td>\n",
       "      <td>67</td>\n",
       "      <td>125</td>\n",
       "      <td>True</td>\n",
       "      <td>19.618703</td>\n",
       "    </tr>\n",
       "    <tr>\n",
       "      <th>4</th>\n",
       "      <td>136</td>\n",
       "      <td>286</td>\n",
       "      <td>25</td>\n",
       "      <td>62</td>\n",
       "      <td>93</td>\n",
       "      <td>False</td>\n",
       "      <td>17.045489</td>\n",
       "    </tr>\n",
       "    <tr>\n",
       "      <th>...</th>\n",
       "      <td>...</td>\n",
       "      <td>...</td>\n",
       "      <td>...</td>\n",
       "      <td>...</td>\n",
       "      <td>...</td>\n",
       "      <td>...</td>\n",
       "      <td>...</td>\n",
       "    </tr>\n",
       "    <tr>\n",
       "      <th>1169</th>\n",
       "      <td>113</td>\n",
       "      <td>275</td>\n",
       "      <td>27</td>\n",
       "      <td>60</td>\n",
       "      <td>100</td>\n",
       "      <td>False</td>\n",
       "      <td>19.570746</td>\n",
       "    </tr>\n",
       "    <tr>\n",
       "      <th>1170</th>\n",
       "      <td>128</td>\n",
       "      <td>265</td>\n",
       "      <td>24</td>\n",
       "      <td>67</td>\n",
       "      <td>120</td>\n",
       "      <td>False</td>\n",
       "      <td>18.833955</td>\n",
       "    </tr>\n",
       "    <tr>\n",
       "      <th>1171</th>\n",
       "      <td>130</td>\n",
       "      <td>291</td>\n",
       "      <td>30</td>\n",
       "      <td>65</td>\n",
       "      <td>150</td>\n",
       "      <td>True</td>\n",
       "      <td>25.013498</td>\n",
       "    </tr>\n",
       "    <tr>\n",
       "      <th>1172</th>\n",
       "      <td>125</td>\n",
       "      <td>281</td>\n",
       "      <td>21</td>\n",
       "      <td>65</td>\n",
       "      <td>110</td>\n",
       "      <td>False</td>\n",
       "      <td>18.343232</td>\n",
       "    </tr>\n",
       "    <tr>\n",
       "      <th>1173</th>\n",
       "      <td>117</td>\n",
       "      <td>297</td>\n",
       "      <td>38</td>\n",
       "      <td>65</td>\n",
       "      <td>129</td>\n",
       "      <td>False</td>\n",
       "      <td>21.511608</td>\n",
       "    </tr>\n",
       "  </tbody>\n",
       "</table>\n",
       "<p>1174 rows × 7 columns</p>\n",
       "</div>"
      ],
      "text/plain": [
       "      Birth Weight  Gestational Days  Maternal Age  Maternal Height  \\\n",
       "0              120               284            27               62   \n",
       "1              113               282            33               64   \n",
       "2              128               279            28               64   \n",
       "3              108               282            23               67   \n",
       "4              136               286            25               62   \n",
       "...            ...               ...           ...              ...   \n",
       "1169           113               275            27               60   \n",
       "1170           128               265            24               67   \n",
       "1171           130               291            30               65   \n",
       "1172           125               281            21               65   \n",
       "1173           117               297            38               65   \n",
       "\n",
       "      Maternal Pregnancy Weight  Maternal Smoker        bmi  \n",
       "0                           100            False  18.328482  \n",
       "1                           135            False  23.221149  \n",
       "2                           115             True  19.780979  \n",
       "3                           125             True  19.618703  \n",
       "4                            93            False  17.045489  \n",
       "...                         ...              ...        ...  \n",
       "1169                        100            False  19.570746  \n",
       "1170                        120            False  18.833955  \n",
       "1171                        150             True  25.013498  \n",
       "1172                        110            False  18.343232  \n",
       "1173                        129            False  21.511608  \n",
       "\n",
       "[1174 rows x 7 columns]"
      ]
     },
     "execution_count": 4,
     "metadata": {},
     "output_type": "execute_result"
    }
   ],
   "source": [
    "baby_df[\"bmi\"] = bmi \n",
    "baby_df"
   ]
  },
  {
   "cell_type": "code",
   "execution_count": 5,
   "metadata": {},
   "outputs": [
    {
     "data": {
      "text/plain": [
       "(array([  9.,  37., 147., 238., 267., 160., 112.,  62.,  45.,  33.,  24.,\n",
       "         11.,   9.,   6.,   7.,   1.,   1.,   2.,   1.,   2.]),\n",
       " array([15.69496243, 16.93198561, 18.1690088 , 19.40603198, 20.64305516,\n",
       "        21.88007834, 23.11710152, 24.3541247 , 25.59114788, 26.82817106,\n",
       "        28.06519425, 29.30221743, 30.53924061, 31.77626379, 33.01328697,\n",
       "        34.25031015, 35.48733333, 36.72435651, 37.9613797 , 39.19840288,\n",
       "        40.43542606]),\n",
       " <BarContainer object of 20 artists>)"
      ]
     },
     "execution_count": 5,
     "metadata": {},
     "output_type": "execute_result"
    },
    {
     "data": {
      "image/png": "[encoded data removed]",
      "text/plain": [
       "<Figure size 432x288 with 1 Axes>"
      ]
     },
     "metadata": {},
     "output_type": "display_data"
    }
   ],
   "source": [
    "plt.hist(baby_df[\"bmi\"], bins=20)"
   ]
  },
  {
   "cell_type": "markdown",
   "metadata": {},
   "source": [
    "#### Question 2\n",
    "\n",
    "Generate two plots: (i) overlapping histograms of mother BMI for smokers and non-smokers; (ii) back-to-back boxplots of mother BMI for smokers and non-smokers.\n",
    "\n",
    "Interpret the plots.\n"
   ]
  },
  {
   "cell_type": "code",
   "execution_count": 6,
   "metadata": {},
   "outputs": [
    {
     "data": {
      "text/plain": [
       "<matplotlib.legend.Legend at 0x7f0e357799a0>"
      ]
     },
     "execution_count": 6,
     "metadata": {},
     "output_type": "execute_result"
    },
    {
     "data": {
      "image/png": "[encoded data removed]",
      "text/plain": [
       "<Figure size 432x288 with 1 Axes>"
      ]
     },
     "metadata": {},
     "output_type": "display_data"
    }
   ],
   "source": [
    "#histograms\n",
    "bmi_smoker = baby_df[baby_df['Maternal Smoker']==True]['bmi']\n",
    "bmi_nonsmoker = baby_df[baby_df['Maternal Smoker']==False]['bmi']\n",
    "\n",
    "plt.hist(bmi_nonsmoker, bins=20,label='Maternal Non-Smoker')\n",
    "plt.hist(bmi_smoker, alpha = 0.7,bins=20,label='Maternal Smoker')\n",
    "plt.title('Histogram of BMIs of Maternal Smokerd vs Non Smokers')\n",
    "plt.xlabel('BMI')\n",
    "plt.legend()"
   ]
  },
  {
   "cell_type": "code",
   "execution_count": 7,
   "metadata": {},
   "outputs": [
    {
     "data": {
      "text/plain": [
       "Text(0, 0.5, 'BMI')"
      ]
     },
     "execution_count": 7,
     "metadata": {},
     "output_type": "execute_result"
    },
    {
     "data": {
      "image/png": "[encoded data removed]",
      "text/plain": [
       "<Figure size 432x288 with 1 Axes>"
      ]
     },
     "metadata": {},
     "output_type": "display_data"
    }
   ],
   "source": [
    "#boxplots\n",
    "#ax = plt.subplots()\n",
    "a = bmi_smoker\n",
    "b = bmi_nonsmoker\n",
    "plt.boxplot([a,b], labels= [\"Maternal Smoker\", \"Maternal Non-Smoker\"])\n",
    "plt.title('Boxplots of BMIs of Maternal Smokerd vs Non Smokers')\n",
    "plt.ylabel('BMI')"
   ]
  },
  {
   "cell_type": "markdown",
   "metadata": {},
   "source": [
    "#### Question 3 (quantile plots)\n",
    "\n",
    "Plot the empirical inverse cumulative distribution (quanitle plots) of BMI for the smoker and nonsmoker subsets.  Make sure you label the two groups and the axes.  Interpret the result."
   ]
  },
  {
   "cell_type": "code",
   "execution_count": 8,
   "metadata": {},
   "outputs": [],
   "source": [
    "xfine= np.arange(0,1,.001)"
   ]
  },
  {
   "cell_type": "code",
   "execution_count": 9,
   "metadata": {},
   "outputs": [
    {
     "data": {
      "text/plain": [
       "<matplotlib.legend.Legend at 0x7f0e356952e0>"
      ]
     },
     "execution_count": 9,
     "metadata": {},
     "output_type": "execute_result"
    },
    {
     "data": {
      "image/png": "[encoded data removed]",
      "text/plain": [
       "<Figure size 432x288 with 1 Axes>"
      ]
     },
     "metadata": {},
     "output_type": "display_data"
    }
   ],
   "source": [
    "smoker_q = np.quantile(bmi_smoker,xfine)\n",
    "nonsmoker_q = np.quantile(bmi_nonsmoker,xfine)\n",
    "plt.plot(smoker_q, label='Maternal Smoker')\n",
    "plt.plot(nonsmoker_q, label='Maternal Nonsmoker')\n",
    "plt.title('Quantile Plot of BMIs for Maternal Smokers vs. Nonsmokers')\n",
    "plt.ylabel('BMI')\n",
    "plt.legend()\n",
    "#scipy.stats.probplot(smoker_q)"
   ]
  },
  {
   "cell_type": "code",
   "execution_count": 10,
   "metadata": {},
   "outputs": [
    {
     "data": {
      "text/plain": [
       "False    715\n",
       "True     459\n",
       "Name: Maternal Smoker, dtype: int64"
      ]
     },
     "execution_count": 10,
     "metadata": {},
     "output_type": "execute_result"
    }
   ],
   "source": [
    "baby_df[\"Maternal Smoker\"].value_counts()"
   ]
  },
  {
   "cell_type": "code",
   "execution_count": 11,
   "metadata": {},
   "outputs": [],
   "source": [
    "# We have 715 nonsmokers and 459 smokers in the dataset."
   ]
  },
  {
   "cell_type": "markdown",
   "metadata": {},
   "source": [
    "#### Question 4 (difference of sample means)\n",
    "\n",
    "We want to investigate if the distributions of the BMI in mothers who smoke and mother who do not smoke are the same. \n",
    "\n",
    "Consider the null hypothesis that the two types are in fact drawn from the same distribution.  This is something we can assume and make calculations from.\n",
    "\n",
    "Let us first examine the following test statistic: **the difference in BMI sample means** (between smokers and non-smokers).  \n",
    "\n",
    "You can start by randomly permuting the rows of baby_df:\n"
   ]
  },
  {
   "cell_type": "code",
   "execution_count": 12,
   "metadata": {},
   "outputs": [
    {
     "data": {
      "text/html": [
       "<div>\n",
       "<style scoped>\n",
       "    .dataframe tbody tr th:only-of-type {\n",
       "        vertical-align: middle;\n",
       "    }\n",
       "\n",
       "    .dataframe tbody tr th {\n",
       "        vertical-align: top;\n",
       "    }\n",
       "\n",
       "    .dataframe thead th {\n",
       "        text-align: right;\n",
       "    }\n",
       "</style>\n",
       "<table border=\"1\" class=\"dataframe\">\n",
       "  <thead>\n",
       "    <tr style=\"text-align: right;\">\n",
       "      <th></th>\n",
       "      <th>Birth Weight</th>\n",
       "      <th>Gestational Days</th>\n",
       "      <th>Maternal Age</th>\n",
       "      <th>Maternal Height</th>\n",
       "      <th>Maternal Pregnancy Weight</th>\n",
       "      <th>Maternal Smoker</th>\n",
       "      <th>bmi</th>\n",
       "    </tr>\n",
       "  </thead>\n",
       "  <tbody>\n",
       "    <tr>\n",
       "      <th>274</th>\n",
       "      <td>119</td>\n",
       "      <td>294</td>\n",
       "      <td>34</td>\n",
       "      <td>59</td>\n",
       "      <td>105</td>\n",
       "      <td>False</td>\n",
       "      <td>21.251773</td>\n",
       "    </tr>\n",
       "    <tr>\n",
       "      <th>1155</th>\n",
       "      <td>146</td>\n",
       "      <td>319</td>\n",
       "      <td>28</td>\n",
       "      <td>66</td>\n",
       "      <td>145</td>\n",
       "      <td>False</td>\n",
       "      <td>23.452547</td>\n",
       "    </tr>\n",
       "    <tr>\n",
       "      <th>678</th>\n",
       "      <td>139</td>\n",
       "      <td>275</td>\n",
       "      <td>33</td>\n",
       "      <td>62</td>\n",
       "      <td>118</td>\n",
       "      <td>False</td>\n",
       "      <td>21.627609</td>\n",
       "    </tr>\n",
       "    <tr>\n",
       "      <th>894</th>\n",
       "      <td>136</td>\n",
       "      <td>261</td>\n",
       "      <td>24</td>\n",
       "      <td>65</td>\n",
       "      <td>110</td>\n",
       "      <td>False</td>\n",
       "      <td>18.343232</td>\n",
       "    </tr>\n",
       "    <tr>\n",
       "      <th>1079</th>\n",
       "      <td>137</td>\n",
       "      <td>276</td>\n",
       "      <td>25</td>\n",
       "      <td>64</td>\n",
       "      <td>127</td>\n",
       "      <td>False</td>\n",
       "      <td>21.845081</td>\n",
       "    </tr>\n",
       "    <tr>\n",
       "      <th>...</th>\n",
       "      <td>...</td>\n",
       "      <td>...</td>\n",
       "      <td>...</td>\n",
       "      <td>...</td>\n",
       "      <td>...</td>\n",
       "      <td>...</td>\n",
       "      <td>...</td>\n",
       "    </tr>\n",
       "    <tr>\n",
       "      <th>909</th>\n",
       "      <td>117</td>\n",
       "      <td>272</td>\n",
       "      <td>32</td>\n",
       "      <td>66</td>\n",
       "      <td>118</td>\n",
       "      <td>False</td>\n",
       "      <td>19.085521</td>\n",
       "    </tr>\n",
       "    <tr>\n",
       "      <th>108</th>\n",
       "      <td>121</td>\n",
       "      <td>264</td>\n",
       "      <td>32</td>\n",
       "      <td>66</td>\n",
       "      <td>145</td>\n",
       "      <td>False</td>\n",
       "      <td>23.452547</td>\n",
       "    </tr>\n",
       "    <tr>\n",
       "      <th>1026</th>\n",
       "      <td>137</td>\n",
       "      <td>277</td>\n",
       "      <td>41</td>\n",
       "      <td>65</td>\n",
       "      <td>126</td>\n",
       "      <td>False</td>\n",
       "      <td>21.011338</td>\n",
       "    </tr>\n",
       "    <tr>\n",
       "      <th>261</th>\n",
       "      <td>109</td>\n",
       "      <td>295</td>\n",
       "      <td>23</td>\n",
       "      <td>63</td>\n",
       "      <td>103</td>\n",
       "      <td>True</td>\n",
       "      <td>18.283781</td>\n",
       "    </tr>\n",
       "    <tr>\n",
       "      <th>1157</th>\n",
       "      <td>110</td>\n",
       "      <td>321</td>\n",
       "      <td>28</td>\n",
       "      <td>66</td>\n",
       "      <td>180</td>\n",
       "      <td>False</td>\n",
       "      <td>29.113507</td>\n",
       "    </tr>\n",
       "  </tbody>\n",
       "</table>\n",
       "<p>1174 rows × 7 columns</p>\n",
       "</div>"
      ],
      "text/plain": [
       "      Birth Weight  Gestational Days  Maternal Age  Maternal Height  \\\n",
       "274            119               294            34               59   \n",
       "1155           146               319            28               66   \n",
       "678            139               275            33               62   \n",
       "894            136               261            24               65   \n",
       "1079           137               276            25               64   \n",
       "...            ...               ...           ...              ...   \n",
       "909            117               272            32               66   \n",
       "108            121               264            32               66   \n",
       "1026           137               277            41               65   \n",
       "261            109               295            23               63   \n",
       "1157           110               321            28               66   \n",
       "\n",
       "      Maternal Pregnancy Weight  Maternal Smoker        bmi  \n",
       "274                         105            False  21.251773  \n",
       "1155                        145            False  23.452547  \n",
       "678                         118            False  21.627609  \n",
       "894                         110            False  18.343232  \n",
       "1079                        127            False  21.845081  \n",
       "...                         ...              ...        ...  \n",
       "909                         118            False  19.085521  \n",
       "108                         145            False  23.452547  \n",
       "1026                        126            False  21.011338  \n",
       "261                         103             True  18.283781  \n",
       "1157                        180            False  29.113507  \n",
       "\n",
       "[1174 rows x 7 columns]"
      ]
     },
     "execution_count": 12,
     "metadata": {},
     "output_type": "execute_result"
    }
   ],
   "source": [
    "scrambledbaby_df = baby_df.iloc[np.random.permutation(len(baby_df))]\n",
    "scrambledbaby_df"
   ]
  },
  {
   "cell_type": "code",
   "execution_count": 13,
   "metadata": {},
   "outputs": [
    {
     "data": {
      "text/html": [
       "<div>\n",
       "<style scoped>\n",
       "    .dataframe tbody tr th:only-of-type {\n",
       "        vertical-align: middle;\n",
       "    }\n",
       "\n",
       "    .dataframe tbody tr th {\n",
       "        vertical-align: top;\n",
       "    }\n",
       "\n",
       "    .dataframe thead th {\n",
       "        text-align: right;\n",
       "    }\n",
       "</style>\n",
       "<table border=\"1\" class=\"dataframe\">\n",
       "  <thead>\n",
       "    <tr style=\"text-align: right;\">\n",
       "      <th></th>\n",
       "      <th>Birth Weight</th>\n",
       "      <th>Gestational Days</th>\n",
       "      <th>Maternal Age</th>\n",
       "      <th>Maternal Height</th>\n",
       "      <th>Maternal Pregnancy Weight</th>\n",
       "      <th>Maternal Smoker</th>\n",
       "      <th>bmi</th>\n",
       "      <th>Scrambled Maternal Smoker</th>\n",
       "    </tr>\n",
       "  </thead>\n",
       "  <tbody>\n",
       "    <tr>\n",
       "      <th>0</th>\n",
       "      <td>120</td>\n",
       "      <td>284</td>\n",
       "      <td>27</td>\n",
       "      <td>62</td>\n",
       "      <td>100</td>\n",
       "      <td>False</td>\n",
       "      <td>18.328482</td>\n",
       "      <td>False</td>\n",
       "    </tr>\n",
       "    <tr>\n",
       "      <th>1</th>\n",
       "      <td>113</td>\n",
       "      <td>282</td>\n",
       "      <td>33</td>\n",
       "      <td>64</td>\n",
       "      <td>135</td>\n",
       "      <td>False</td>\n",
       "      <td>23.221149</td>\n",
       "      <td>False</td>\n",
       "    </tr>\n",
       "    <tr>\n",
       "      <th>2</th>\n",
       "      <td>128</td>\n",
       "      <td>279</td>\n",
       "      <td>28</td>\n",
       "      <td>64</td>\n",
       "      <td>115</td>\n",
       "      <td>True</td>\n",
       "      <td>19.780979</td>\n",
       "      <td>True</td>\n",
       "    </tr>\n",
       "    <tr>\n",
       "      <th>3</th>\n",
       "      <td>108</td>\n",
       "      <td>282</td>\n",
       "      <td>23</td>\n",
       "      <td>67</td>\n",
       "      <td>125</td>\n",
       "      <td>True</td>\n",
       "      <td>19.618703</td>\n",
       "      <td>False</td>\n",
       "    </tr>\n",
       "    <tr>\n",
       "      <th>4</th>\n",
       "      <td>136</td>\n",
       "      <td>286</td>\n",
       "      <td>25</td>\n",
       "      <td>62</td>\n",
       "      <td>93</td>\n",
       "      <td>False</td>\n",
       "      <td>17.045489</td>\n",
       "      <td>False</td>\n",
       "    </tr>\n",
       "    <tr>\n",
       "      <th>...</th>\n",
       "      <td>...</td>\n",
       "      <td>...</td>\n",
       "      <td>...</td>\n",
       "      <td>...</td>\n",
       "      <td>...</td>\n",
       "      <td>...</td>\n",
       "      <td>...</td>\n",
       "      <td>...</td>\n",
       "    </tr>\n",
       "    <tr>\n",
       "      <th>1169</th>\n",
       "      <td>113</td>\n",
       "      <td>275</td>\n",
       "      <td>27</td>\n",
       "      <td>60</td>\n",
       "      <td>100</td>\n",
       "      <td>False</td>\n",
       "      <td>19.570746</td>\n",
       "      <td>False</td>\n",
       "    </tr>\n",
       "    <tr>\n",
       "      <th>1170</th>\n",
       "      <td>128</td>\n",
       "      <td>265</td>\n",
       "      <td>24</td>\n",
       "      <td>67</td>\n",
       "      <td>120</td>\n",
       "      <td>False</td>\n",
       "      <td>18.833955</td>\n",
       "      <td>True</td>\n",
       "    </tr>\n",
       "    <tr>\n",
       "      <th>1171</th>\n",
       "      <td>130</td>\n",
       "      <td>291</td>\n",
       "      <td>30</td>\n",
       "      <td>65</td>\n",
       "      <td>150</td>\n",
       "      <td>True</td>\n",
       "      <td>25.013498</td>\n",
       "      <td>False</td>\n",
       "    </tr>\n",
       "    <tr>\n",
       "      <th>1172</th>\n",
       "      <td>125</td>\n",
       "      <td>281</td>\n",
       "      <td>21</td>\n",
       "      <td>65</td>\n",
       "      <td>110</td>\n",
       "      <td>False</td>\n",
       "      <td>18.343232</td>\n",
       "      <td>False</td>\n",
       "    </tr>\n",
       "    <tr>\n",
       "      <th>1173</th>\n",
       "      <td>117</td>\n",
       "      <td>297</td>\n",
       "      <td>38</td>\n",
       "      <td>65</td>\n",
       "      <td>129</td>\n",
       "      <td>False</td>\n",
       "      <td>21.511608</td>\n",
       "      <td>False</td>\n",
       "    </tr>\n",
       "  </tbody>\n",
       "</table>\n",
       "<p>1174 rows × 8 columns</p>\n",
       "</div>"
      ],
      "text/plain": [
       "      Birth Weight  Gestational Days  Maternal Age  Maternal Height  \\\n",
       "0              120               284            27               62   \n",
       "1              113               282            33               64   \n",
       "2              128               279            28               64   \n",
       "3              108               282            23               67   \n",
       "4              136               286            25               62   \n",
       "...            ...               ...           ...              ...   \n",
       "1169           113               275            27               60   \n",
       "1170           128               265            24               67   \n",
       "1171           130               291            30               65   \n",
       "1172           125               281            21               65   \n",
       "1173           117               297            38               65   \n",
       "\n",
       "      Maternal Pregnancy Weight  Maternal Smoker        bmi  \\\n",
       "0                           100            False  18.328482   \n",
       "1                           135            False  23.221149   \n",
       "2                           115             True  19.780979   \n",
       "3                           125             True  19.618703   \n",
       "4                            93            False  17.045489   \n",
       "...                         ...              ...        ...   \n",
       "1169                        100            False  19.570746   \n",
       "1170                        120            False  18.833955   \n",
       "1171                        150             True  25.013498   \n",
       "1172                        110            False  18.343232   \n",
       "1173                        129            False  21.511608   \n",
       "\n",
       "      Scrambled Maternal Smoker  \n",
       "0                         False  \n",
       "1                         False  \n",
       "2                          True  \n",
       "3                         False  \n",
       "4                         False  \n",
       "...                         ...  \n",
       "1169                      False  \n",
       "1170                       True  \n",
       "1171                      False  \n",
       "1172                      False  \n",
       "1173                      False  \n",
       "\n",
       "[1174 rows x 8 columns]"
      ]
     },
     "execution_count": 13,
     "metadata": {},
     "output_type": "execute_result"
    }
   ],
   "source": [
    "scrambledbaby_df2 = baby_df.copy()\n",
    "scrambledbaby_df2_column = baby_df['Maternal Smoker'].sample(1174,replace=False).reset_index(drop=True)\n",
    "scrambledbaby_df2['Scrambled Maternal Smoker'] = scrambledbaby_df2_column\n",
    "scrambledbaby_df2"
   ]
  },
  {
   "cell_type": "markdown",
   "metadata": {},
   "source": [
    "Then divide this into \"scrambled-nonsmoker\" and \"scrambled-smoker\" samples of size 715 and 459 .\n",
    "The distribution of the differences of the means of the scrambled-smoker and scrambled-nonsmoker groups\n",
    "give you the distribution of the difference-of-sample-means test statistic when the distributions are the same\n",
    "and contain all of the values of the observed data."
   ]
  },
  {
   "cell_type": "markdown",
   "metadata": {},
   "source": [
    "Write the code that generates a null distribution for this test statistic and calculate the p-value associated with this test statistic."
   ]
  },
  {
   "cell_type": "code",
   "execution_count": 14,
   "metadata": {},
   "outputs": [
    {
     "name": "stdout",
     "output_type": "stream",
     "text": [
      "21.744720625356333\n",
      "22.240430393603972\n"
     ]
    }
   ],
   "source": [
    "q4_smoker = baby_df['bmi'].loc[baby_df['Maternal Smoker'] == True]\n",
    "q4_nonsmoker = baby_df['bmi'].loc[baby_df['Maternal Smoker'] == False]\n",
    "print(q4_smoker.mean())\n",
    "print(q4_nonsmoker.mean())"
   ]
  },
  {
   "cell_type": "code",
   "execution_count": 15,
   "metadata": {},
   "outputs": [
    {
     "data": {
      "text/plain": [
       "Ttest_indResult(statistic=-0.010746518017424293, pvalue=0.9914275131675264)"
      ]
     },
     "execution_count": 15,
     "metadata": {},
     "output_type": "execute_result"
    }
   ],
   "source": [
    "scrambledbaby_smoker = scrambledbaby_df2.sample(715)\n",
    "scrambledbaby_nonsmoker = scrambledbaby_df2.sample(459)\n",
    "smoker_sample = scrambledbaby_smoker.bmi\n",
    "nonsmoker_sample = scrambledbaby_nonsmoker.bmi\n",
    "smoker_sample_means = scrambledbaby_smoker.bmi.mean()\n",
    "nonsmoker_sample_means = scrambledbaby_nonsmoker.bmi.mean()\n",
    "stats.ttest_ind(nonsmoker_sample,smoker_sample)"
   ]
  },
  {
   "cell_type": "code",
   "execution_count": 16,
   "metadata": {},
   "outputs": [
    {
     "data": {
      "text/plain": [
       "Maternal Smoker\n",
       "False    22.240430\n",
       "True     21.744721\n",
       "Name: bmi, dtype: float64"
      ]
     },
     "execution_count": 16,
     "metadata": {},
     "output_type": "execute_result"
    }
   ],
   "source": [
    "obs_means = baby_df.groupby('Maternal Smoker').mean()['bmi']\n",
    "diff_obs_means = obs_means.iloc[0]-obs_means.iloc[1]\n",
    "obs_means"
   ]
  },
  {
   "cell_type": "code",
   "execution_count": 17,
   "metadata": {},
   "outputs": [
    {
     "name": "stdout",
     "output_type": "stream",
     "text": [
      "0.006\n",
      "0.49570976824763946\n"
     ]
    }
   ],
   "source": [
    "mean_differences = np.array([])\n",
    "for i in np.arange(1000):\n",
    "    scrambledbaby_df2 = baby_df.copy()\n",
    "    scrambledbaby_df2_column = baby_df['Maternal Smoker'].sample(1174,replace=False).reset_index(drop=True)\n",
    "    scrambledbaby_df2['Scrambled Maternal Smoker'] = scrambledbaby_df2_column\n",
    "    q4_df = scrambledbaby_df2.groupby('Scrambled Maternal Smoker').mean()\n",
    "    mean_diff_orig = q4_df['bmi'].iloc[1] - q4_df['bmi'].iloc[0]\n",
    "    mean_differences = np.append(mean_differences,mean_diff_orig)\n",
    "emp_p_mean = np.count_nonzero(mean_differences>=diff_obs_means)/1000\n",
    "print(emp_p_mean)\n",
    "print(diff_obs_means)"
   ]
  },
  {
   "cell_type": "markdown",
   "metadata": {},
   "source": [
    "#### Question 5 (medians)\n",
    "\n",
    "Repeat what is asked in Question 3 for the following test statistic: **the difference in BMI sample medians**."
   ]
  },
  {
   "cell_type": "code",
   "execution_count": 18,
   "metadata": {},
   "outputs": [
    {
     "data": {
      "text/plain": [
       "Maternal Smoker\n",
       "False    21.501064\n",
       "True     21.077755\n",
       "Name: bmi, dtype: float64"
      ]
     },
     "execution_count": 18,
     "metadata": {},
     "output_type": "execute_result"
    }
   ],
   "source": [
    "obs_medians = baby_df.groupby('Maternal Smoker').median()['bmi']\n",
    "diff_obs_medians = obs_medians.iloc[0]-obs_medians.iloc[1]\n",
    "obs_medians"
   ]
  },
  {
   "cell_type": "code",
   "execution_count": 19,
   "metadata": {},
   "outputs": [
    {
     "data": {
      "text/html": [
       "<div>\n",
       "<style scoped>\n",
       "    .dataframe tbody tr th:only-of-type {\n",
       "        vertical-align: middle;\n",
       "    }\n",
       "\n",
       "    .dataframe tbody tr th {\n",
       "        vertical-align: top;\n",
       "    }\n",
       "\n",
       "    .dataframe thead th {\n",
       "        text-align: right;\n",
       "    }\n",
       "</style>\n",
       "<table border=\"1\" class=\"dataframe\">\n",
       "  <thead>\n",
       "    <tr style=\"text-align: right;\">\n",
       "      <th></th>\n",
       "      <th>Birth Weight</th>\n",
       "      <th>Gestational Days</th>\n",
       "      <th>Maternal Age</th>\n",
       "      <th>Maternal Height</th>\n",
       "      <th>Maternal Pregnancy Weight</th>\n",
       "      <th>Maternal Smoker</th>\n",
       "      <th>bmi</th>\n",
       "    </tr>\n",
       "    <tr>\n",
       "      <th>Scrambled Maternal Smoker</th>\n",
       "      <th></th>\n",
       "      <th></th>\n",
       "      <th></th>\n",
       "      <th></th>\n",
       "      <th></th>\n",
       "      <th></th>\n",
       "      <th></th>\n",
       "    </tr>\n",
       "  </thead>\n",
       "  <tbody>\n",
       "    <tr>\n",
       "      <th>False</th>\n",
       "      <td>120</td>\n",
       "      <td>280</td>\n",
       "      <td>26</td>\n",
       "      <td>64</td>\n",
       "      <td>125</td>\n",
       "      <td>False</td>\n",
       "      <td>21.280191</td>\n",
       "    </tr>\n",
       "    <tr>\n",
       "      <th>True</th>\n",
       "      <td>119</td>\n",
       "      <td>280</td>\n",
       "      <td>27</td>\n",
       "      <td>64</td>\n",
       "      <td>125</td>\n",
       "      <td>False</td>\n",
       "      <td>21.479005</td>\n",
       "    </tr>\n",
       "  </tbody>\n",
       "</table>\n",
       "</div>"
      ],
      "text/plain": [
       "                           Birth Weight  Gestational Days  Maternal Age  \\\n",
       "Scrambled Maternal Smoker                                                 \n",
       "False                               120               280            26   \n",
       "True                                119               280            27   \n",
       "\n",
       "                           Maternal Height  Maternal Pregnancy Weight  \\\n",
       "Scrambled Maternal Smoker                                               \n",
       "False                                   64                        125   \n",
       "True                                    64                        125   \n",
       "\n",
       "                           Maternal Smoker        bmi  \n",
       "Scrambled Maternal Smoker                              \n",
       "False                                False  21.280191  \n",
       "True                                 False  21.479005  "
      ]
     },
     "execution_count": 19,
     "metadata": {},
     "output_type": "execute_result"
    }
   ],
   "source": [
    "scrambledbaby_df2.groupby('Scrambled Maternal Smoker').median()"
   ]
  },
  {
   "cell_type": "code",
   "execution_count": 20,
   "metadata": {},
   "outputs": [
    {
     "name": "stdout",
     "output_type": "stream",
     "text": [
      "0.016\n",
      "0.42330918835224907\n"
     ]
    }
   ],
   "source": [
    "# this cell (or cells if you need more than one) contains the code for generating \n",
    "# the null distribution and the p-value\n",
    "median_differences = np.array([])\n",
    "for i in np.arange(1000):\n",
    "    scrambledbaby_df2 = baby_df.copy()\n",
    "    scrambledbaby_df2_column = baby_df['Maternal Smoker'].sample(1174,replace=False).reset_index(drop=True)\n",
    "    scrambledbaby_df2['Scrambled Maternal Smoker'] = scrambledbaby_df2_column\n",
    "    q5_df = scrambledbaby_df2.groupby('Scrambled Maternal Smoker').median()\n",
    "    median_diff_orig = q5_df['bmi'].iloc[1] - q5_df['bmi'].iloc[0]\n",
    "    median_differences = np.append(median_differences,median_diff_orig)\n",
    "emp_p_median = np.count_nonzero(median_differences>=diff_obs_medians)/1000\n",
    "print(emp_p_median)\n",
    "print(diff_obs_medians)"
   ]
  },
  {
   "cell_type": "code",
   "execution_count": 21,
   "metadata": {},
   "outputs": [],
   "source": [
    "#scipy.stats.median_test(nonsmoker_sample,smoker_sample)\n",
    "#permutations"
   ]
  },
  {
   "cell_type": "markdown",
   "metadata": {},
   "source": [
    "#### Question 6 (standard deviations)\n",
    "\n",
    "Repeat what is asked in Question 3 for the following test statistic: **the difference in BMI sample standard deviations**."
   ]
  },
  {
   "cell_type": "code",
   "execution_count": 22,
   "metadata": {},
   "outputs": [
    {
     "data": {
      "text/html": [
       "<div>\n",
       "<style scoped>\n",
       "    .dataframe tbody tr th:only-of-type {\n",
       "        vertical-align: middle;\n",
       "    }\n",
       "\n",
       "    .dataframe tbody tr th {\n",
       "        vertical-align: top;\n",
       "    }\n",
       "\n",
       "    .dataframe thead th {\n",
       "        text-align: right;\n",
       "    }\n",
       "</style>\n",
       "<table border=\"1\" class=\"dataframe\">\n",
       "  <thead>\n",
       "    <tr style=\"text-align: right;\">\n",
       "      <th></th>\n",
       "      <th>Birth Weight</th>\n",
       "      <th>Gestational Days</th>\n",
       "      <th>Maternal Age</th>\n",
       "      <th>Maternal Height</th>\n",
       "      <th>Maternal Pregnancy Weight</th>\n",
       "      <th>Maternal Smoker</th>\n",
       "      <th>bmi</th>\n",
       "    </tr>\n",
       "    <tr>\n",
       "      <th>Scrambled Maternal Smoker</th>\n",
       "      <th></th>\n",
       "      <th></th>\n",
       "      <th></th>\n",
       "      <th></th>\n",
       "      <th></th>\n",
       "      <th></th>\n",
       "      <th></th>\n",
       "    </tr>\n",
       "  </thead>\n",
       "  <tbody>\n",
       "    <tr>\n",
       "      <th>False</th>\n",
       "      <td>18.213255</td>\n",
       "      <td>16.177736</td>\n",
       "      <td>5.581074</td>\n",
       "      <td>2.513331</td>\n",
       "      <td>20.900551</td>\n",
       "      <td>0.486511</td>\n",
       "      <td>3.241459</td>\n",
       "    </tr>\n",
       "    <tr>\n",
       "      <th>True</th>\n",
       "      <td>18.522856</td>\n",
       "      <td>15.761333</td>\n",
       "      <td>6.159178</td>\n",
       "      <td>2.548191</td>\n",
       "      <td>20.424906</td>\n",
       "      <td>0.491046</td>\n",
       "      <td>3.200874</td>\n",
       "    </tr>\n",
       "  </tbody>\n",
       "</table>\n",
       "</div>"
      ],
      "text/plain": [
       "                           Birth Weight  Gestational Days  Maternal Age  \\\n",
       "Scrambled Maternal Smoker                                                 \n",
       "False                         18.213255         16.177736      5.581074   \n",
       "True                          18.522856         15.761333      6.159178   \n",
       "\n",
       "                           Maternal Height  Maternal Pregnancy Weight  \\\n",
       "Scrambled Maternal Smoker                                               \n",
       "False                             2.513331                  20.900551   \n",
       "True                              2.548191                  20.424906   \n",
       "\n",
       "                           Maternal Smoker       bmi  \n",
       "Scrambled Maternal Smoker                             \n",
       "False                             0.486511  3.241459  \n",
       "True                              0.491046  3.200874  "
      ]
     },
     "execution_count": 22,
     "metadata": {},
     "output_type": "execute_result"
    }
   ],
   "source": [
    "scrambledbaby_df2.groupby('Scrambled Maternal Smoker').std()"
   ]
  },
  {
   "cell_type": "code",
   "execution_count": 23,
   "metadata": {},
   "outputs": [
    {
     "data": {
      "text/html": [
       "<div>\n",
       "<style scoped>\n",
       "    .dataframe tbody tr th:only-of-type {\n",
       "        vertical-align: middle;\n",
       "    }\n",
       "\n",
       "    .dataframe tbody tr th {\n",
       "        vertical-align: top;\n",
       "    }\n",
       "\n",
       "    .dataframe thead th {\n",
       "        text-align: right;\n",
       "    }\n",
       "</style>\n",
       "<table border=\"1\" class=\"dataframe\">\n",
       "  <thead>\n",
       "    <tr style=\"text-align: right;\">\n",
       "      <th></th>\n",
       "      <th>Birth Weight</th>\n",
       "      <th>Gestational Days</th>\n",
       "      <th>Maternal Age</th>\n",
       "      <th>Maternal Height</th>\n",
       "      <th>Maternal Pregnancy Weight</th>\n",
       "      <th>bmi</th>\n",
       "    </tr>\n",
       "    <tr>\n",
       "      <th>Maternal Smoker</th>\n",
       "      <th></th>\n",
       "      <th></th>\n",
       "      <th></th>\n",
       "      <th></th>\n",
       "      <th></th>\n",
       "      <th></th>\n",
       "    </tr>\n",
       "  </thead>\n",
       "  <tbody>\n",
       "    <tr>\n",
       "      <th>False</th>\n",
       "      <td>17.423695</td>\n",
       "      <td>16.472823</td>\n",
       "      <td>5.866317</td>\n",
       "      <td>2.476178</td>\n",
       "      <td>21.150404</td>\n",
       "      <td>3.297370</td>\n",
       "    </tr>\n",
       "    <tr>\n",
       "      <th>True</th>\n",
       "      <td>18.295010</td>\n",
       "      <td>15.201427</td>\n",
       "      <td>5.713139</td>\n",
       "      <td>2.603734</td>\n",
       "      <td>19.991921</td>\n",
       "      <td>3.103648</td>\n",
       "    </tr>\n",
       "  </tbody>\n",
       "</table>\n",
       "</div>"
      ],
      "text/plain": [
       "                 Birth Weight  Gestational Days  Maternal Age  \\\n",
       "Maternal Smoker                                                 \n",
       "False               17.423695         16.472823      5.866317   \n",
       "True                18.295010         15.201427      5.713139   \n",
       "\n",
       "                 Maternal Height  Maternal Pregnancy Weight       bmi  \n",
       "Maternal Smoker                                                        \n",
       "False                   2.476178                  21.150404  3.297370  \n",
       "True                    2.603734                  19.991921  3.103648  "
      ]
     },
     "execution_count": 23,
     "metadata": {},
     "output_type": "execute_result"
    }
   ],
   "source": [
    "baby_df.groupby('Maternal Smoker').std()"
   ]
  },
  {
   "cell_type": "code",
   "execution_count": 24,
   "metadata": {},
   "outputs": [
    {
     "data": {
      "text/plain": [
       "0.19372210757886554"
      ]
     },
     "execution_count": 24,
     "metadata": {},
     "output_type": "execute_result"
    }
   ],
   "source": [
    "obs_std = baby_df.groupby('Maternal Smoker').std()['bmi']\n",
    "diff_obs_std = obs_std.iloc[0]-obs_std.iloc[1]\n",
    "diff_obs_std"
   ]
  },
  {
   "cell_type": "code",
   "execution_count": 25,
   "metadata": {},
   "outputs": [
    {
     "name": "stdout",
     "output_type": "stream",
     "text": [
      "0.231\n",
      "0.19372210757886554\n"
     ]
    }
   ],
   "source": [
    "# this cell (or cells if you need more than one) contains the code for generating \n",
    "# the null distribution and the p-value\n",
    "std_differences = np.array([])\n",
    "for i in np.arange(1000):\n",
    "    scrambledbaby_df2 = baby_df.copy()\n",
    "    scrambledbaby_df2_column = baby_df['Maternal Smoker'].sample(1174,replace=False).reset_index(drop=True)\n",
    "    scrambledbaby_df2['Scrambled Maternal Smoker'] = scrambledbaby_df2_column\n",
    "    q6_df = scrambledbaby_df2.groupby('Scrambled Maternal Smoker').std()\n",
    "    std_diff_orig = q6_df['bmi'].iloc[1] - q6_df['bmi'].iloc[0]\n",
    "    std_differences = np.append(std_differences,std_diff_orig)\n",
    "emp_p_std = np.count_nonzero(std_differences>=diff_obs_std)/1000\n",
    "print(emp_p_std)\n",
    "print(diff_obs_std)"
   ]
  },
  {
   "cell_type": "markdown",
   "metadata": {},
   "source": [
    "#### Question 7\n",
    "\n",
    "Write a very brief discussion on the interpretation of the three p-values you calculated."
   ]
  },
  {
   "cell_type": "markdown",
   "metadata": {},
   "source": [
    "**Answer:** Because the p-values are so small for mean and median, there is strong evidence that we should reject the null hypothesis that the distribution of BMIs for Maternal Smokers vs Nonsmokers is due only to chance, but that there is instead statistically significant evidence that there is a difference in the BMIs of smoking versus non-smoking mothers. The p value for the standard deviation is not significant so there was not wide variation either that could alter the data for one group versus the other."
   ]
  },
  {
   "cell_type": "markdown",
   "metadata": {},
   "source": [
    "## 2. Plagiarism detector (25 points) \n",
    "\n",
    "We will use the matching techniques discussed in Lecture 15 to construct **a naive plagiarism detector**. We modified the code from the class notebook in two ways: (i) we generalized it to q-character tokens; and (ii) we use spaces instead of #-signs to pad the ends of the strings.\n",
    "\n",
    "This code allows you to calculate the Jaccard similarity for bigrams, trigrams etc."
   ]
  },
  {
   "cell_type": "code",
   "execution_count": 26,
   "metadata": {},
   "outputs": [],
   "source": [
    "#A Function to break a string into qgrams (q-character tokens)\n",
    "#we'll pad the string with spaces on the front and end\n",
    "def qgram(str,q):\n",
    "    str = ' ' + str + ' '\n",
    "    return([str[i:i+q] for i in range(len(str)-(q-1))])\n",
    "\n",
    "#compute the jaccard similarity of two strings using qgrams\n",
    "#pass in a value for q to do anything other than bi-grams\n",
    "#call jaccard_simq with verbose set to True to see intermediate values\n",
    "\n",
    "def jaccard_simq(str1, str2,q=2,verbose=False): \n",
    "    set1 = set(qgram(str1,q)) \n",
    "    set2 = set(qgram(str2,q))\n",
    "    common_tokens = set1.intersection(set2)\n",
    "    all_tokens = set1.union(set2)\n",
    "    if verbose:\n",
    "        print('set1 =',set1)\n",
    "        print('set2 =',set2)\n",
    "        print('Intersection =',common_tokens)\n",
    "        print('Union =',all_tokens)\n",
    "        print('Common Tokens =',len(common_tokens),\n",
    "              'Total Tokens =',len(all_tokens))\n",
    "    return float(len(common_tokens) / len(all_tokens))"
   ]
  },
  {
   "cell_type": "markdown",
   "metadata": {},
   "source": [
    "To familiarize yourself with the function, you should try it on several examples and with different values of q. The `verbose=True` option is useful when you want to understand what the function is doing."
   ]
  },
  {
   "cell_type": "code",
   "execution_count": 27,
   "metadata": {},
   "outputs": [
    {
     "name": "stdout",
     "output_type": "stream",
     "text": [
      "set1 = {'ox', 'br', ' t', 'ow', 'qu', 'th', ' f', 'x ', 'ic', ' q', 'k ', 'he', 'fo', 'ck', 'ui', 'ro', 'n ', 'wn', 'e ', ' b'}\n",
      "set2 = {'ox', 'br', ' t', 'ow', 'qu', 'th', ' f', 'x ', 'ic', ' q', 'k ', 'he', 'fo', 'ck', 'ui', 'ro', 'n ', 'wn', 'e ', ' b'}\n",
      "Intersection = {'ox', 'br', ' t', 'ow', 'qu', 'th', ' f', 'x ', 'ic', ' q', 'k ', 'he', 'fo', 'ck', 'ui', 'ro', 'n ', 'wn', 'e ', ' b'}\n",
      "Union = {'ox', 'br', ' t', 'ow', 'qu', 'th', ' f', 'x ', 'ic', ' q', 'k ', 'he', 'fo', 'ck', 'ui', 'ro', 'n ', 'wn', 'e ', ' b'}\n",
      "Common Tokens = 20 Total Tokens = 20\n"
     ]
    },
    {
     "data": {
      "text/plain": [
       "1.0"
      ]
     },
     "execution_count": 27,
     "metadata": {},
     "output_type": "execute_result"
    }
   ],
   "source": [
    "jaccard_simq('the quick brown fox','fox quick brown the',verbose=True)"
   ]
  },
  {
   "cell_type": "code",
   "execution_count": 28,
   "metadata": {
    "scrolled": true
   },
   "outputs": [
    {
     "data": {
      "text/plain": [
       "1.0"
      ]
     },
     "execution_count": 28,
     "metadata": {},
     "output_type": "execute_result"
    }
   ],
   "source": [
    "jaccard_simq('the quick brown fox','fox quick brown the')"
   ]
  },
  {
   "cell_type": "code",
   "execution_count": 29,
   "metadata": {
    "scrolled": true
   },
   "outputs": [
    {
     "name": "stdout",
     "output_type": "stream",
     "text": [
      "set1 = {'the ', 'ick ', ' the', 'n fo', ' bro', 'k br', 'quic', 'fox ', 'wn f', 'brow', 'own ', 'uick', 'rown', ' fox', 'ck b', 'e qu', ' qui', 'he q'}\n",
      "set2 = {'the ', 'ick ', 'n th', ' the', ' bro', 'k br', 'fox ', 'quic', 'wn t', ' fox', 'brow', 'own ', 'rown', 'x qu', 'ox q', 'ck b', 'uick', ' qui'}\n",
      "Intersection = {'the ', ' the', ' bro', 'fox ', 'quic', ' qui', ' fox', 'brow', 'own ', 'rown', 'ck b', 'k br', 'uick', 'ick '}\n",
      "Union = {'the ', ' the', 'n fo', ' bro', ' qui', 'wn t', 'brow', 'own ', 'ox q', 'uick', 'ick ', 'he q', 'n th', 'quic', 'fox ', 'wn f', ' fox', 'rown', 'x qu', 'k br', 'e qu', 'ck b'}\n",
      "Common Tokens = 14 Total Tokens = 22\n"
     ]
    },
    {
     "data": {
      "text/plain": [
       "0.6363636363636364"
      ]
     },
     "execution_count": 29,
     "metadata": {},
     "output_type": "execute_result"
    }
   ],
   "source": [
    "jaccard_simq('the quick brown fox','fox quick brown the',4,True)"
   ]
  },
  {
   "cell_type": "code",
   "execution_count": 30,
   "metadata": {},
   "outputs": [
    {
     "data": {
      "text/plain": [
       "0.2"
      ]
     },
     "execution_count": 30,
     "metadata": {},
     "output_type": "execute_result"
    }
   ],
   "source": [
    "jaccard_simq('the quick brown fox','fox quick brown the',10)"
   ]
  },
  {
   "cell_type": "markdown",
   "metadata": {},
   "source": [
    "The goal of this exercise is to use this function to investigate possible plagiarism in a homework assignment. A homework question asked students to define PageRank. The instructors were worried that the students will copy the answer from Wikipedia, so they decided to use that as a reference. The relevant part of the Wikipedia entry is saved in the file `original.txt` and the command below reads that file into a string."
   ]
  },
  {
   "cell_type": "code",
   "execution_count": 31,
   "metadata": {
    "scrolled": true
   },
   "outputs": [
    {
     "data": {
      "text/plain": [
       "'PageRank is a link analysis algorithm used by the Google Internet search engine that assigns a numerical weighting to each element of a hyperlinked set of documents, such as the World Wide Web, with the purpose of \"measuring\" its relative importance within the set. The algorithm may be applied to any collection of entities with reciprocal quotations and references. The numerical weight that it assigns to any given element E is also called the PageRank of E and denoted by PR(E).\\nThe name \"PageRank\" is a trademark of Google, and the PageRank process has been patented (U.S. Patent 6,285,999 ). However, the patent is assigned to Stanford University and not to Google. Google has exclusive license rights on the patent from Stanford University. The university received 1.8 million shares in Google in exchange for use of the patent; the shares were sold in 2005 for $336 million.\\nGoogle describes PageRank:\\n“ \\tPageRank relies on the uniquely democratic nature of the web by using its vast link structure as an indicator of an individual page\\'s value. In essence, Google interprets a link from page A to page B as a vote, by page A, for page B. But, Google looks at more than the sheer volume of votes, or links a page receives; it also analyzes the page that casts the vote. Votes cast by pages that are themselves \"important\" weigh more heavily and help to make other pages \"important\". \\t”\\nIn other words, a PageRank results from a \"ballot\" among all the other pages on the World Wide Web about how important a page is. A hyperlink to a page counts as a vote of support. The PageRank of a page is defined recursively and depends on the number and PageRank metric of all pages that link to it (\"incoming links\"). A page that is linked to by many pages with high PageRank receives a high rank itself. If there are no links to a web page there is no support for that page.\\nGoogle assigns a numeric weighting from 0-10 for each webpage on the Internet; this PageRank denotes a site’s importance in the eyes of Google. The PageRank is derived from a theoretical probability value on a logarithmic scale like the Richter Scale. The PageRank of a particular page is roughly based upon the quantity of inbound links as well as the PageRank of the pages providing the links. It is known that other factors, e.g. relevance of search words on the page and actual visits to the page reported by the Google toolbar also influence the PageRank. In order to prevent manipulation, spoofing and Spamdexing, Google provides no specific details about how other factors influence PageRank.\\nNumerous academic papers concerning PageRank have been published since Page and Brin\\'s original paper. In practice, the PageRank concept has proven to be vulnerable to manipulation, and extensive research has been devoted to identifying falsely inflated PageRank and ways to ignore links from documents with falsely inflated PageRank.\\nOther link-based ranking algorithms for Web pages include the HITS algorithm invented by Jon Kleinberg (used by Teoma and now Ask.com), the IBM CLEVER project, and the TrustRank algorithm.\\n'"
      ]
     },
     "execution_count": 31,
     "metadata": {},
     "output_type": "execute_result"
    }
   ],
   "source": [
    "open(\"original.txt\",\"r\",encoding=\"utf8\").read()"
   ]
  },
  {
   "cell_type": "markdown",
   "metadata": {},
   "source": [
    "Files containing the answer of five students (A,B,C,D, and E) are provided. They are read as strings using the code below. "
   ]
  },
  {
   "cell_type": "code",
   "execution_count": 32,
   "metadata": {},
   "outputs": [],
   "source": [
    "original=open(\"original.txt\",\"r\").read()\n",
    "studentA=open(\"studentA.txt\",\"r\").read()\n",
    "studentB=open(\"studentB.txt\",\"r\").read()\n",
    "studentC=open(\"studentC.txt\",\"r\").read()\n",
    "studentD=open(\"studentD.txt\",\"r\").read()\n",
    "studentE=open(\"studentE.txt\",\"r\").read()"
   ]
  },
  {
   "cell_type": "markdown",
   "metadata": {},
   "source": [
    "#### Question 8\n",
    "\n",
    "One decision to make is the choice of q in the Jaccard similarity (whether to use 2-character tokens, 20-character tokens etc.) \n",
    "\n",
    "Write one advantage and one disadvantage when using 2-character tokens.\n",
    "\n",
    "Write one advantage and one disadvantage when using 20-character tokens."
   ]
  },
  {
   "cell_type": "markdown",
   "metadata": {},
   "source": [
    "2-character tokens:\n",
    "\n",
    "advantage: Because the tokens are small, there could be a more accurate match for smaller words or phrases.\n",
    "\n",
    "disadvantage: It could be more prone to false positives because the sample tokens are so small.\n",
    "\n",
    "\n",
    "20-character tokens:\n",
    "\n",
    "advantage: For larger sentences or paragraphs, this can be more accurate in taking chunks of words without getting false matches.\n",
    "\n",
    "disadvantage: If there are multiple mistakes, misspellings, or other general variations within the chunk of text, using this length of token would not be able to catch the plagiarism. "
   ]
  },
  {
   "cell_type": "markdown",
   "metadata": {},
   "source": [
    "#### Question 9\n",
    "\n",
    "Calculate the Jaccard similarities between each of the five student responses and the original Wikipedia article for all q between 2 and 20.\n",
    "\n",
    "Save the results in a dataframe with rows indexed by the values of q, and having a column for each student answer showing the similarity of that student answer and the original for each value of q.   Your dataframe should have 19 populated rows with 5 columns."
   ]
  },
  {
   "cell_type": "code",
   "execution_count": 33,
   "metadata": {},
   "outputs": [],
   "source": [
    "test_run_frame = []\n",
    "def test_run(student,i):\n",
    "    return jaccard_simq(original,student,i)\n",
    "for i in range(21):\n",
    "    test_run_frame.append(test_run(studentA,i))\n",
    "test_run_frame\n",
    "test_array = np.asarray(test_run_frame)\n",
    "test_array = pd.DataFrame(test_array,columns = ['Student A'])\n",
    "student_A = test_array[2:21]"
   ]
  },
  {
   "cell_type": "code",
   "execution_count": 34,
   "metadata": {},
   "outputs": [],
   "source": [
    "studentBframe = []\n",
    "def test_run(student,i):\n",
    "    return jaccard_simq(original,student,i)\n",
    "for i in range(21):\n",
    "    studentBframe.append(test_run(studentB,i))\n",
    "studentBframe\n",
    "studentBarray = np.asarray(studentBframe)\n",
    "studentBarray = pd.DataFrame(studentBarray,columns = ['Student B'])\n",
    "student_B = studentBarray[2:21]"
   ]
  },
  {
   "cell_type": "code",
   "execution_count": 35,
   "metadata": {},
   "outputs": [],
   "source": [
    "studentCframe = []\n",
    "def test_run(student,i):\n",
    "    return jaccard_simq(original,student,i)\n",
    "for i in range(21):\n",
    "    studentCframe.append(test_run(studentC,i))\n",
    "studentCframe\n",
    "studentCarray = np.asarray(studentCframe)\n",
    "studentCarray = pd.DataFrame(studentCarray,columns = ['Student C'])\n",
    "student_C = studentCarray[2:21]"
   ]
  },
  {
   "cell_type": "code",
   "execution_count": 36,
   "metadata": {},
   "outputs": [],
   "source": [
    "studentDframe = []\n",
    "def test_run(student,i):\n",
    "    return jaccard_simq(original,student,i)\n",
    "for i in range(21):\n",
    "    studentDframe.append(test_run(studentD,i))\n",
    "studentDframe\n",
    "studentDarray = np.asarray(studentDframe)\n",
    "studentDarray = pd.DataFrame(studentDarray,columns = ['Student D'])\n",
    "student_D = studentDarray[2:21]"
   ]
  },
  {
   "cell_type": "code",
   "execution_count": 37,
   "metadata": {},
   "outputs": [],
   "source": [
    "studentEframe = []\n",
    "def test_run(student,i):\n",
    "    return jaccard_simq(original,student,i)\n",
    "for i in range(21):\n",
    "    studentEframe.append(test_run(studentE,i))\n",
    "studentEframe\n",
    "studentEarray = np.asarray(studentEframe)\n",
    "studentEarray = pd.DataFrame(studentEarray,columns = ['Student E'])\n",
    "student_E = studentEarray[2:21]"
   ]
  },
  {
   "cell_type": "code",
   "execution_count": 38,
   "metadata": {},
   "outputs": [
    {
     "data": {
      "text/html": [
       "<div>\n",
       "<style scoped>\n",
       "    .dataframe tbody tr th:only-of-type {\n",
       "        vertical-align: middle;\n",
       "    }\n",
       "\n",
       "    .dataframe tbody tr th {\n",
       "        vertical-align: top;\n",
       "    }\n",
       "\n",
       "    .dataframe thead th {\n",
       "        text-align: right;\n",
       "    }\n",
       "</style>\n",
       "<table border=\"1\" class=\"dataframe\">\n",
       "  <thead>\n",
       "    <tr style=\"text-align: right;\">\n",
       "      <th></th>\n",
       "      <th>Student A</th>\n",
       "      <th>Student B</th>\n",
       "      <th>Student C</th>\n",
       "      <th>Student D</th>\n",
       "      <th>Student E</th>\n",
       "    </tr>\n",
       "  </thead>\n",
       "  <tbody>\n",
       "    <tr>\n",
       "      <th>2</th>\n",
       "      <td>0.713959</td>\n",
       "      <td>0.436647</td>\n",
       "      <td>0.449561</td>\n",
       "      <td>0.413242</td>\n",
       "      <td>0.454148</td>\n",
       "    </tr>\n",
       "    <tr>\n",
       "      <th>3</th>\n",
       "      <td>0.528192</td>\n",
       "      <td>0.261528</td>\n",
       "      <td>0.232156</td>\n",
       "      <td>0.244681</td>\n",
       "      <td>0.284700</td>\n",
       "    </tr>\n",
       "    <tr>\n",
       "      <th>4</th>\n",
       "      <td>0.457965</td>\n",
       "      <td>0.162698</td>\n",
       "      <td>0.128345</td>\n",
       "      <td>0.177140</td>\n",
       "      <td>0.200939</td>\n",
       "    </tr>\n",
       "    <tr>\n",
       "      <th>5</th>\n",
       "      <td>0.424920</td>\n",
       "      <td>0.108565</td>\n",
       "      <td>0.079377</td>\n",
       "      <td>0.150758</td>\n",
       "      <td>0.166093</td>\n",
       "    </tr>\n",
       "    <tr>\n",
       "      <th>6</th>\n",
       "      <td>0.402108</td>\n",
       "      <td>0.077730</td>\n",
       "      <td>0.048056</td>\n",
       "      <td>0.131777</td>\n",
       "      <td>0.147793</td>\n",
       "    </tr>\n",
       "    <tr>\n",
       "      <th>7</th>\n",
       "      <td>0.387012</td>\n",
       "      <td>0.054100</td>\n",
       "      <td>0.028373</td>\n",
       "      <td>0.118185</td>\n",
       "      <td>0.134663</td>\n",
       "    </tr>\n",
       "    <tr>\n",
       "      <th>8</th>\n",
       "      <td>0.374911</td>\n",
       "      <td>0.038706</td>\n",
       "      <td>0.015574</td>\n",
       "      <td>0.108296</td>\n",
       "      <td>0.125763</td>\n",
       "    </tr>\n",
       "    <tr>\n",
       "      <th>9</th>\n",
       "      <td>0.365854</td>\n",
       "      <td>0.026917</td>\n",
       "      <td>0.008417</td>\n",
       "      <td>0.100334</td>\n",
       "      <td>0.120944</td>\n",
       "    </tr>\n",
       "    <tr>\n",
       "      <th>10</th>\n",
       "      <td>0.358409</td>\n",
       "      <td>0.019473</td>\n",
       "      <td>0.003327</td>\n",
       "      <td>0.094076</td>\n",
       "      <td>0.117798</td>\n",
       "    </tr>\n",
       "    <tr>\n",
       "      <th>11</th>\n",
       "      <td>0.351749</td>\n",
       "      <td>0.014695</td>\n",
       "      <td>0.001004</td>\n",
       "      <td>0.088825</td>\n",
       "      <td>0.114250</td>\n",
       "    </tr>\n",
       "    <tr>\n",
       "      <th>12</th>\n",
       "      <td>0.346327</td>\n",
       "      <td>0.011391</td>\n",
       "      <td>0.000248</td>\n",
       "      <td>0.084065</td>\n",
       "      <td>0.112007</td>\n",
       "    </tr>\n",
       "    <tr>\n",
       "      <th>13</th>\n",
       "      <td>0.341518</td>\n",
       "      <td>0.008455</td>\n",
       "      <td>0.000000</td>\n",
       "      <td>0.079143</td>\n",
       "      <td>0.110290</td>\n",
       "    </tr>\n",
       "    <tr>\n",
       "      <th>14</th>\n",
       "      <td>0.336915</td>\n",
       "      <td>0.005585</td>\n",
       "      <td>0.000000</td>\n",
       "      <td>0.075077</td>\n",
       "      <td>0.109069</td>\n",
       "    </tr>\n",
       "    <tr>\n",
       "      <th>15</th>\n",
       "      <td>0.331767</td>\n",
       "      <td>0.003930</td>\n",
       "      <td>0.000000</td>\n",
       "      <td>0.071450</td>\n",
       "      <td>0.108265</td>\n",
       "    </tr>\n",
       "    <tr>\n",
       "      <th>16</th>\n",
       "      <td>0.327318</td>\n",
       "      <td>0.002529</td>\n",
       "      <td>0.000000</td>\n",
       "      <td>0.068285</td>\n",
       "      <td>0.107599</td>\n",
       "    </tr>\n",
       "    <tr>\n",
       "      <th>17</th>\n",
       "      <td>0.323229</td>\n",
       "      <td>0.001374</td>\n",
       "      <td>0.000000</td>\n",
       "      <td>0.065217</td>\n",
       "      <td>0.107035</td>\n",
       "    </tr>\n",
       "    <tr>\n",
       "      <th>18</th>\n",
       "      <td>0.319286</td>\n",
       "      <td>0.000456</td>\n",
       "      <td>0.000000</td>\n",
       "      <td>0.062181</td>\n",
       "      <td>0.106473</td>\n",
       "    </tr>\n",
       "    <tr>\n",
       "      <th>19</th>\n",
       "      <td>0.315161</td>\n",
       "      <td>0.000000</td>\n",
       "      <td>0.000000</td>\n",
       "      <td>0.059246</td>\n",
       "      <td>0.106042</td>\n",
       "    </tr>\n",
       "    <tr>\n",
       "      <th>20</th>\n",
       "      <td>0.310955</td>\n",
       "      <td>0.000000</td>\n",
       "      <td>0.000000</td>\n",
       "      <td>0.056351</td>\n",
       "      <td>0.105644</td>\n",
       "    </tr>\n",
       "  </tbody>\n",
       "</table>\n",
       "</div>"
      ],
      "text/plain": [
       "    Student A  Student B  Student C  Student D  Student E\n",
       "2    0.713959   0.436647   0.449561   0.413242   0.454148\n",
       "3    0.528192   0.261528   0.232156   0.244681   0.284700\n",
       "4    0.457965   0.162698   0.128345   0.177140   0.200939\n",
       "5    0.424920   0.108565   0.079377   0.150758   0.166093\n",
       "6    0.402108   0.077730   0.048056   0.131777   0.147793\n",
       "7    0.387012   0.054100   0.028373   0.118185   0.134663\n",
       "8    0.374911   0.038706   0.015574   0.108296   0.125763\n",
       "9    0.365854   0.026917   0.008417   0.100334   0.120944\n",
       "10   0.358409   0.019473   0.003327   0.094076   0.117798\n",
       "11   0.351749   0.014695   0.001004   0.088825   0.114250\n",
       "12   0.346327   0.011391   0.000248   0.084065   0.112007\n",
       "13   0.341518   0.008455   0.000000   0.079143   0.110290\n",
       "14   0.336915   0.005585   0.000000   0.075077   0.109069\n",
       "15   0.331767   0.003930   0.000000   0.071450   0.108265\n",
       "16   0.327318   0.002529   0.000000   0.068285   0.107599\n",
       "17   0.323229   0.001374   0.000000   0.065217   0.107035\n",
       "18   0.319286   0.000456   0.000000   0.062181   0.106473\n",
       "19   0.315161   0.000000   0.000000   0.059246   0.106042\n",
       "20   0.310955   0.000000   0.000000   0.056351   0.105644"
      ]
     },
     "execution_count": 38,
     "metadata": {},
     "output_type": "execute_result"
    }
   ],
   "source": [
    "# put your code to create and output the dataframe here\n",
    "plag_df = pd.concat([student_A,student_B,student_C,student_D,student_E], axis=1)\n",
    "plag_df"
   ]
  },
  {
   "cell_type": "markdown",
   "metadata": {},
   "source": [
    "#### Question 10\n",
    "\n",
    "Draw a plot with five overlaid lines for the Jaccard similarities of the five texts. The plot should show the Jaccard similarities (on y-axis) against q (on x-axis). Make sure that it is clear which line corresponds to which student/answer."
   ]
  },
  {
   "cell_type": "code",
   "execution_count": 39,
   "metadata": {},
   "outputs": [
    {
     "data": {
      "text/plain": [
       "<matplotlib.legend.Legend at 0x7f0e3556cf70>"
      ]
     },
     "execution_count": 39,
     "metadata": {},
     "output_type": "execute_result"
    },
    {
     "data": {
      "image/png": "[encoded data removed]",
      "text/plain": [
       "<Figure size 360x360 with 1 Axes>"
      ]
     },
     "metadata": {},
     "output_type": "display_data"
    }
   ],
   "source": [
    "plt.figure(figsize=(5,5))\n",
    "plt.plot(student_A,label='Student A')\n",
    "plt.plot(student_B,label='Student B')\n",
    "plt.plot(student_C,label='Student C')\n",
    "plt.plot(student_D,label='Student D')\n",
    "plt.plot(student_E,label='Student E')\n",
    "plt.title('Jaccard Similarities of Between Original Text and Student Work')\n",
    "plt.xlabel('Number of Tokens')\n",
    "plt.ylabel('Similarity out of 1.0')\n",
    "plt.legend()\n",
    "#plt.plot(np.arange(0,673,1),two_week_roll,label='two week rolling avg')"
   ]
  },
  {
   "cell_type": "markdown",
   "metadata": {},
   "source": [
    "#### Question 11\n",
    "\n",
    "What do the similarity values you calculated say about the five students (A,B,C, D and E)? Is there evidence for plagiarism for any of them? Write a short discussion of your findings.\n"
   ]
  },
  {
   "cell_type": "markdown",
   "metadata": {},
   "source": [
    "**Answer:** Of the five students, Student A consistently had the highest similarity between the original text across the 19 different numbers of tokens/letters compared, so there is evidence of plagiarism for this student. For students B and C, the number of tokens that matched the original text dropped very close to zero or no match between their texts and the original, so there is no evidence of plagiarism. For students D and E, there was a higher match between the original and their texts, but it also became around or less than 10% match as the number of tokens compared got higher."
   ]
  },
  {
   "cell_type": "markdown",
   "metadata": {},
   "source": [
    "#### Question 12\n",
    "\n",
    "Assume that the original text is fixed, but that different amounts of it are plagiarized.  How does the length of the plagiarized text impact the Jaccard similarities? For example, would a plagiarized short paper (1-2 sentences) typically have a different Jaccard similarity than a plagiarized long paper (few paragraphs)? Is this important for our five student scenario?\n",
    "\n",
    "This is an open-ended question. You can answer it by changing the length of a plagiarized text and calculating similarities, you can argue it mathematically, or you can do some combination of these. \n",
    "\n"
   ]
  },
  {
   "cell_type": "markdown",
   "metadata": {},
   "source": [
    "**Answer:** It does make a difference when there is a plagarized short paper versus a long one. I took the jaccard similarities of couple plagarized sentences and the original text and compared it to the jaccard similarities of the same couple of plagarized sentences with the Gettysburg Address pasted onto the end as fluff to increase the length of the paper. When the same two sentences of plagarized text were compared, the one with a bunch of fluff showed much less comparison to the original. This is important because two students could have plagarized the same amount of text, but if one student's was longer and had other non-plagarized things added, their text would show little to no evidence of plagarism. "
   ]
  },
  {
   "cell_type": "code",
   "execution_count": 40,
   "metadata": {},
   "outputs": [],
   "source": [
    "# if you use code to make your argument put it here\n",
    "original\n",
    "two_sentence_gettysburg = str('However, the patent is assigned to Stanford University and not to Google. Google has exclusive license rights on the patent from Stanford University. The university received 1.8 million shares in Google in exchange for use of the patent; the shares were sold in 2005 for $336 million.\\nGoogle describes PageRank:\\n“ \\tPageRank relies on the uniquely democratic nature of the web by using its vast link structure as an indicator of an individual page\\'s value. Four score and seven years ago our fathers brought forth on this continent, a new nation, conceived in Liberty, and dedicated to the proposition that all men are created equal. Now we are engaged in a great civil war, testing whether that nation, or any nation so conceived and so dedicated, can long endure. We are met on a great battle-field of that war. We have come to dedicate a portion of that field, as a final resting place for those who here gave their lives that that nation might live. It is altogether fitting and proper that we should do this. But, in a larger sense, we can not dedicate -- we can not consecrate -- we can not hallow -- this ground. The brave men, living and dead, who struggled here, have consecrated it, far above our poor power to add or detract. The world will little note, nor long remember what we say here, but it can never forget what they did here. It is for us the living, rather, to be dedicated here to the unfinished work which they who fought here have thus far so nobly advanced. It is rather for us to be here dedicated to the great task remaining before us -- that from these honored dead we take increased devotion to that cause for which they gave the last full measure of devotion -- that we here highly resolve that these dead shall not have died in vain -- that this nation, under God, shall have a new birth of freedom -- and that government of the people, by the people, for the people, shall not perish from the earth')\n",
    "two_sentence_plag = ('However, the patent is assigned to Stanford University and not to Google. Google has exclusive license rights on the patent from Stanford University. The university received 1.8 million shares in Google in exchange for use of the patent; the shares were sold in 2005 for $336 million.\\nGoogle describes PageRank:\\n“ \\tPageRank relies on the uniquely democratic nature of the web by using its vast link structure as an indicator of an individual page\\'s value.')\n",
    "#two_paragraph_plag = str('But, Google looks at more than the sheer volume of votes, or links a page receives; it also analyzes the page that casts the vote. Votes cast by pages that are themselves \"important\" weigh more heavily and help to make other pages \"important\". \\t”\\nIn other words, a PageRank results from a \"ballot\" among all the other pages on the World Wide Web about how important a page is. A hyperlink to a page counts as a vote of support. The PageRank of a page is defined recursively and depends on the number and PageRank metric of all pages that link to it (\"incoming links\"). A page that is linked to by many pages with high PageRank receives a high rank itself. If there are no links to a web page there is no support for that page.\\nGoogle assigns a numeric weighting from 0-10 for each webpage on the Internet; this PageRank denotes a site’s importance in the eyes of Google. The PageRank is derived from a theoretical probability value on a logarithmic scale like the Richter Scale. The PageRank of a particular page is roughly based upon the quantity of inbound links as well as the PageRank of the pages providing the links. It is known that other factors, e.g. relevance of search words on the page and actual visits to the page reported by the Google toolbar also influence the PageRank. In order to prevent manipulation, spoofing and Spamdexing, Google provides no specific details about how other factors influence PageRank.\\nNumerous academic papers concerning PageRank have been published since Page and Brin\\'s original paper.')\n",
    "q12_frame = []\n",
    "def q12_run(student,i):\n",
    "    return jaccard_simq(original,two_sentence_plag,i)\n",
    "for i in range(2,21):\n",
    "    q12_frame.append(q12_run(two_sentence_plag,i))\n",
    "q12_frame\n",
    "q12_array = np.asarray(q12_frame)\n",
    "q12_array = pd.DataFrame(q12_array,columns = ['2 Sentence'])\n",
    "q12_array = q12_array[2:21]"
   ]
  },
  {
   "cell_type": "code",
   "execution_count": 41,
   "metadata": {},
   "outputs": [],
   "source": [
    "q12_frame_2 = []\n",
    "def q12_run_2(student,i):\n",
    "    return jaccard_simq(original,two_sentence_gettysburg,i)\n",
    "for i in range(2,21):\n",
    "    q12_frame_2.append(q12_run_2(two_sentence_gettysburg,i))\n",
    "q12_frame_2\n",
    "q12_array_2 = np.asarray(q12_frame_2)\n",
    "q12_array_2 = pd.DataFrame(q12_array_2,columns = ['2 Paragraph'])\n",
    "q12_array_2 = q12_array_2[2:21]"
   ]
  },
  {
   "cell_type": "code",
   "execution_count": 42,
   "metadata": {},
   "outputs": [
    {
     "data": {
      "text/plain": [
       "<matplotlib.legend.Legend at 0x7f0e35551490>"
      ]
     },
     "execution_count": 42,
     "metadata": {},
     "output_type": "execute_result"
    },
    {
     "data": {
      "image/png": "[encoded data removed]",
      "text/plain": [
       "<Figure size 1080x360 with 1 Axes>"
      ]
     },
     "metadata": {},
     "output_type": "display_data"
    }
   ],
   "source": [
    "plt.figure(figsize=(15,5))\n",
    "plt.plot(q12_array,label='2 sentences')\n",
    "plt.plot(q12_array_2,label='2 sentences with Gettysburg Address')\n",
    "plt.title('Jaccard Similarities of Plagarized sentences vs original')\n",
    "plt.xlabel('Number of Tokens')\n",
    "plt.ylabel('Similarity out of 1.0')\n",
    "plt.legend()"
   ]
  },
  {
   "cell_type": "code",
   "execution_count": null,
   "metadata": {},
   "outputs": [],
   "source": []
  }
 ],
 "metadata": {
  "kernelspec": {
   "display_name": "Python 3",
   "language": "python",
   "name": "python3"
  },
  "language_info": {
   "codemirror_mode": {
    "name": "ipython",
    "version": 3
   },
   "file_extension": ".py",
   "mimetype": "text/x-python",
   "name": "python",
   "nbconvert_exporter": "python",
   "pygments_lexer": "ipython3",
   "version": "3.8.8"
  }
 },
 "nbformat": 4,
 "nbformat_minor": 4
}
